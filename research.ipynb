{
 "cells": [
  {
   "cell_type": "markdown",
   "metadata": {},
   "source": [
    "# Research for finding Rolex\n",
    "The problem described is a classification problem. This is why I've decided to use logistic regression. It is fast to train and provides good accuracy. In this document I will show why this is a good decision."
   ]
  },
  {
   "cell_type": "code",
   "execution_count": 20,
   "metadata": {
    "collapsed": true
   },
   "outputs": [],
   "source": [
    "from os import listdir\n",
    "from os.path import isfile, join\n",
    "import pandas as pd\n",
    "from sklearn.linear_model import LogisticRegression\n",
    "from sklearn.cross_validation import ShuffleSplit, train_test_split\n",
    "from sklearn.learning_curve import learning_curve\n",
    "from sklearn.grid_search import GridSearchCV\n",
    "from scipy.ndimage import imread\n",
    "from scipy.misc import imresize\n",
    "import numpy as np\n",
    "from matplotlib import pyplot as plt\n",
    "%matplotlib inline"
   ]
  },
  {
   "cell_type": "markdown",
   "metadata": {},
   "source": [
    "## 1. Loading images\n",
    "First we load images of logos and background from folders."
   ]
  },
  {
   "cell_type": "code",
   "execution_count": 2,
   "metadata": {
    "collapsed": true
   },
   "outputs": [],
   "source": [
    "url = '/Users/tomasz.dobrzycki/find-rolex_local/train_dataset'\n",
    "back_url = join(url, 'background')\n",
    "logo_url = join(url, 'rolex')\n",
    "back_files = [join(back_url, f) for f in listdir(back_url) if isfile(join(back_url, f)) and '.jpg' in f]\n",
    "logo_files = [join(logo_url, f) for f in listdir(logo_url) if isfile(join(logo_url, f)) and '.jpg' in f]"
   ]
  },
  {
   "cell_type": "markdown",
   "metadata": {},
   "source": [
    "## 2. Preprocessing\n",
    "To process the images, we need to prepare them. After some experiments I decided that resizing images to 50x50 colour provides good results while reducing dimensionality.\n",
    "Then images are flattened and labels are added.\n",
    "Finally we split the data into training and test sets."
   ]
  },
  {
   "cell_type": "code",
   "execution_count": 7,
   "metadata": {
    "collapsed": false
   },
   "outputs": [],
   "source": [
    "size = (50, 50, 3)\n",
    "back_images = pd.DataFrame([imresize(imread(f), size).flatten() for f in back_files])\n",
    "logo_images = pd.DataFrame([imresize(imread(f), size).flatten() for f in logo_files])"
   ]
  },
  {
   "cell_type": "code",
   "execution_count": 11,
   "metadata": {
    "collapsed": true
   },
   "outputs": [],
   "source": [
    "back_images['Logo'] = 0\n",
    "logo_images['Logo'] = 1\n",
    "org_data_set = back_images.append(logo_images)\n",
    "X, y = org_data_set.ix[:, :'7499'], org_data_set['Logo']\n",
    "X_train, X_test, Y_train, Y_test = train_test_split(X, y, test_size=0.2)"
   ]
  },
  {
   "cell_type": "markdown",
   "metadata": {},
   "source": [
    "## 3. Learning curves\n",
    "To decide whether it's worth expanding the dataset I will plot learning curves. This shows how accuracy changes with increase of dataset."
   ]
  },
  {
   "cell_type": "code",
   "execution_count": 24,
   "metadata": {
    "collapsed": false
   },
   "outputs": [],
   "source": [
    "cv = ShuffleSplit(X.shape[0], n_iter=10, test_size=0.2, random_state=0)\n",
    "\n",
    "train_sizes, train_scores, test_scores = learning_curve(LogisticRegression(), X, y, cv=cv, n_jobs=4, \n",
    "                                                        train_sizes=np.linspace(.1, 1.0, 5))\n",
    "train_scores_mean = np.mean(train_scores, axis=1)\n",
    "train_scores_std = np.std(train_scores, axis=1)\n",
    "test_scores_mean = np.mean(test_scores, axis=1)\n",
    "test_scores_std = np.std(test_scores, axis=1)"
   ]
  },
  {
   "cell_type": "markdown",
   "metadata": {},
   "source": [
    "It looks like there is not much improvement beyond 500 datapoints, so I will use the unexpanded set."
   ]
  },
  {
   "cell_type": "code",
   "execution_count": 25,
   "metadata": {
    "collapsed": false,
    "scrolled": false
   },
   "outputs": [
    {
     "data": {
      "image/png": "[encoded data removed]",
      "text/plain": [
       "<matplotlib.figure.Figure at 0x119fdd890>"
      ]
     },
     "metadata": {},
     "output_type": "display_data"
    }
   ],
   "source": [
    "plt.figure(figsize=(15, 8))\n",
    "plt.title('Learning curves')\n",
    "plt.ylim([0.8, 1.05])\n",
    "plt.xlabel(\"Training examples\")\n",
    "plt.ylabel(\"Score\")\n",
    "plt.grid()\n",
    "plt.fill_between(train_sizes, train_scores_mean - train_scores_std, train_scores_mean + train_scores_std, alpha=0.1,\n",
    "                 color=\"r\")\n",
    "plt.fill_between(train_sizes, test_scores_mean - test_scores_std, test_scores_mean + test_scores_std, alpha=0.1, \n",
    "                 color=\"g\")\n",
    "plt.plot(train_sizes, train_scores_mean, 'o-', color=\"r\", label=\"Training score\")\n",
    "plt.plot(train_sizes, test_scores_mean, 'o-', color=\"g\", label=\"Cross-validation score\")\n",
    "plt.legend()\n",
    "plt.show()"
   ]
  },
  {
   "cell_type": "markdown",
   "metadata": {},
   "source": [
    "## 4. Tuning hyperparameters\n",
    "Finally it's worth tuning hyperparameters - C in this case. C is the inverse of strength of regularisation. Low values of C would prevent the model from overfitting."
   ]
  },
  {
   "cell_type": "code",
   "execution_count": 21,
   "metadata": {
    "collapsed": false
   },
   "outputs": [
    {
     "data": {
      "text/plain": [
       "GridSearchCV(cv=None, error_score='raise',\n",
       "       estimator=LogisticRegression(C=1.0, class_weight=None, dual=False, fit_intercept=True,\n",
       "          intercept_scaling=1, max_iter=100, multi_class='ovr', n_jobs=1,\n",
       "          penalty='l2', random_state=None, solver='liblinear', tol=0.0001,\n",
       "          verbose=0, warm_start=False),\n",
       "       fit_params={}, iid=True, n_jobs=1,\n",
       "       param_grid={'C': [0.001, 0.01, 0.1, 1.0, 10.0, 100.0, 1000.0]},\n",
       "       pre_dispatch='2*n_jobs', refit=True, scoring=None, verbose=0)"
      ]
     },
     "execution_count": 21,
     "metadata": {},
     "output_type": "execute_result"
    }
   ],
   "source": [
    "parameters = {'C': [0.001, 0.01, 0.1, 1.0, 10.0, 100.0, 1000.0]}\n",
    "grid = GridSearchCV(LogisticRegression(), param_grid=parameters)\n",
    "grid.fit(X_train, Y_train)"
   ]
  },
  {
   "cell_type": "markdown",
   "metadata": {},
   "source": [
    "The optimal value of C is 0.001 although the differences between searched values are not huge. We could as well use the default value."
   ]
  },
  {
   "cell_type": "code",
   "execution_count": 23,
   "metadata": {
    "collapsed": false
   },
   "outputs": [
    {
     "name": "stdout",
     "output_type": "stream",
     "text": [
      "[mean: 0.93800, std: 0.01270, params: {'C': 0.001}, mean: 0.93084, std: 0.01078, params: {'C': 0.01}, mean: 0.92687, std: 0.00587, params: {'C': 0.1}, mean: 0.92687, std: 0.00587, params: {'C': 1.0}, mean: 0.92607, std: 0.00577, params: {'C': 10.0}, mean: 0.92766, std: 0.00676, params: {'C': 100.0}, mean: 0.92687, std: 0.00587, params: {'C': 1000.0}]\n",
      "0.93799682035\n",
      "{'C': 0.001}\n"
     ]
    }
   ],
   "source": [
    "print grid.grid_scores_\n",
    "print grid.best_score_\n",
    "print grid.best_params_"
   ]
  }
 ],
 "metadata": {
  "kernelspec": {
   "display_name": "Python 2",
   "language": "python",
   "name": "python2"
  },
  "language_info": {
   "codemirror_mode": {
    "name": "ipython",
    "version": 2
   },
   "file_extension": ".py",
   "mimetype": "text/x-python",
   "name": "python",
   "nbconvert_exporter": "python",
   "pygments_lexer": "ipython2",
   "version": "2.7.12"
  }
 },
 "nbformat": 4,
 "nbformat_minor": 0
}
